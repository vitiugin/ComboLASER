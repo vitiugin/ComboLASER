{
 "cells": [
  {
   "cell_type": "code",
   "execution_count": null,
   "metadata": {
    "colab": {
     "base_uri": "https://localhost:8080/",
     "height": 66
    },
    "executionInfo": {
     "elapsed": 44905,
     "status": "ok",
     "timestamp": 1623243731075,
     "user": {
      "displayName": "Fedor Vitiugin",
      "photoUrl": "https://lh3.googleusercontent.com/a-/AOh14GhNfflJc36ljlReANlgAuXkckCMLluvfUefEhf_=s64",
      "userId": "11784960284874366908"
     },
     "user_tz": -120
    },
    "id": "dzVlQ9OMNroj",
    "outputId": "96033509-4a39-461a-8dda-ccf81c95f5a7"
   },
   "outputs": [],
   "source": [
    "import csv\n",
    "import emoji\n",
    "import warnings\n",
    "import numpy as np\n",
    "import pandas as pd\n",
    "import tensorflow as tf\n",
    "import tensorflow.keras.backend as K\n",
    "\n",
    "from laserembeddings import Laser\n",
    "from tensorflow.keras.optimizers import Adam\n",
    "from tensorflow.keras.layers import Dense, LSTM, Dropout, Input,Concatenate, BatchNormalization\n",
    "from tensorflow.keras.utils import to_categorical\n",
    "from tensorflow.keras.models import Model, Sequential\n",
    "\n",
    "warnings.simplefilter(\"ignore\", UserWarning)"
   ]
  },
  {
   "cell_type": "code",
   "execution_count": null,
   "metadata": {
    "executionInfo": {
     "elapsed": 199,
     "status": "ok",
     "timestamp": 1623243832083,
     "user": {
      "displayName": "Fedor Vitiugin",
      "photoUrl": "https://lh3.googleusercontent.com/a-/AOh14GhNfflJc36ljlReANlgAuXkckCMLluvfUefEhf_=s64",
      "userId": "11784960284874366908"
     },
     "user_tz": -120
    },
    "id": "V81Y3kj0ObT6"
   },
   "outputs": [],
   "source": [
    "# Functions for preparing data\n",
    "\n",
    "def emo_reading(column):\n",
    "    labels = []\n",
    "    for x in column:\n",
    "        if x == 'anger':\n",
    "            labels.append(0)\n",
    "        elif x == 'disgust':\n",
    "            labels.append(1)\n",
    "        elif x == 'fear':\n",
    "            labels.append(2)\n",
    "        elif x == 'joy':\n",
    "            labels.append(3)\n",
    "        elif x == 'sadness':\n",
    "            labels.append(4)\n",
    "        elif x == 'surprise':\n",
    "            labels.append(5)\n",
    "        elif x == 'others':\n",
    "            labels.append(6)\n",
    "    return labels\n",
    "\n",
    "def off_reading(column):\n",
    "    labels = []\n",
    "    for x in column:\n",
    "        if x == 'OFF':\n",
    "            labels.append(1)\n",
    "        else:\n",
    "            labels.append(0)\n",
    "    return labels\n",
    "\n",
    "def event_reading(column):\n",
    "    events = []\n",
    "    for t in column:\n",
    "        if t == 'ChampionsLeague':\n",
    "            events.append(0)\n",
    "        elif t == 'GameOfThrones':\n",
    "            events.append(1)\n",
    "        elif t == 'GretaThunberg':\n",
    "            events.append(2)\n",
    "        elif t == 'LaLiga':\n",
    "            events.append(3)\n",
    "        elif t == 'NotreDame':\n",
    "            events.append(4)\n",
    "        elif t == 'SpainElection':\n",
    "            events.append(5)\n",
    "        elif t == 'Venezuela':\n",
    "            events.append(6)\n",
    "        elif t == 'WorldBookDay':\n",
    "            events.append(7)\n",
    "    return events"
   ]
  },
  {
   "cell_type": "code",
   "execution_count": null,
   "metadata": {
    "executionInfo": {
     "elapsed": 229,
     "status": "ok",
     "timestamp": 1623244562319,
     "user": {
      "displayName": "Fedor Vitiugin",
      "photoUrl": "https://lh3.googleusercontent.com/a-/AOh14GhNfflJc36ljlReANlgAuXkckCMLluvfUefEhf_=s64",
      "userId": "11784960284874366908"
     },
     "user_tz": -120
    },
    "id": "ITICdT1GNwTK"
   },
   "outputs": [],
   "source": [
    "# Loading datasets\n",
    "\n",
    "train = pd.read_csv('train.tsv', sep='\\t')\n",
    "train['emo_labels'] = emo_reading(train['emotion'])\n",
    "train['off_labels'] = off_reading(train['offensive']) # NO - 0, OFF - 1\n",
    "train['event_labels'] = event_reading(train['event'])\n",
    "\n",
    "dev = pd.read_csv('dev.tsv', sep='\\t')\n",
    "dev['emo_labels'] = emo_reading(dev['emotion'])\n",
    "dev['off_labels'] = off_reading(dev['offensive']) # NO - 0, OFF - 1\n",
    "dev['event_labels'] = event_reading(dev['event'])\n",
    "\n",
    "test = pd.read_csv('test.tsv', quoting=csv.QUOTE_NONE, error_bad_lines=False, sep='\\t')\n",
    "test['off_labels'] = off_reading(test['offensive']) # NO - 0, OFF - 1\n",
    "test['event_labels'] = event_reading(test['event'])\n",
    "\n",
    "test_gold = pd.read_csv('test_gold.tsv', sep='\\t')\n",
    "test_gold['emo_labels'] = emo_reading(test_gold['emotion'])"
   ]
  },
  {
   "cell_type": "code",
   "execution_count": null,
   "metadata": {},
   "outputs": [],
   "source": [
    "!python -m laserembeddings download-models"
   ]
  },
  {
   "cell_type": "code",
   "execution_count": null,
   "metadata": {
    "executionInfo": {
     "elapsed": 944596,
     "status": "ok",
     "timestamp": 1623251344523,
     "user": {
      "displayName": "Fedor Vitiugin",
      "photoUrl": "https://lh3.googleusercontent.com/a-/AOh14GhNfflJc36ljlReANlgAuXkckCMLluvfUefEhf_=s64",
      "userId": "11784960284874366908"
     },
     "user_tz": -120
    },
    "id": "vrFUihokOAUr"
   },
   "outputs": [],
   "source": [
    "#Extracting embeddings\n",
    "\n",
    "laser = Laser()\n",
    "train_embeddings = laser.embed_sentences([emoji.demojize(t, language='es') for t in train['tweet']], lang = 'es')\n",
    "dev_embeddings = laser.embed_sentences([emoji.demojize(t, language='es') for t in dev['tweet']], lang = 'es')\n",
    "test_embeddings = laser.embed_sentences([emoji.demojize(t, language='es') for t in test['tweet']], lang = 'es')"
   ]
  },
  {
   "cell_type": "code",
   "execution_count": null,
   "metadata": {
    "colab": {
     "base_uri": "https://localhost:8080/"
    },
    "executionInfo": {
     "elapsed": 304,
     "status": "ok",
     "timestamp": 1623252623655,
     "user": {
      "displayName": "Fedor Vitiugin",
      "photoUrl": "https://lh3.googleusercontent.com/a-/AOh14GhNfflJc36ljlReANlgAuXkckCMLluvfUefEhf_=s64",
      "userId": "11784960284874366908"
     },
     "user_tz": -120
    },
    "id": "pT5hVPE4VStS",
    "outputId": "55ed1d03-52aa-4ccf-90aa-bc9d3dedde3a"
   },
   "outputs": [],
   "source": [
    "# Reshaping datasets to tensors\n",
    "\n",
    "TRANSFORMER_DIM = 1024 #laser\n",
    "\n",
    "# - - - - - TRAIN FEATURES - - - - -\n",
    "X1_text = tf.reshape(train_embeddings, [-1, 1, TRANSFORMER_DIM])\n",
    "\n",
    "X1_event = to_categorical(train['event_labels'], 8)\n",
    "X1_event = tf.reshape(X1_event, [-1, 1, 8])\n",
    "\n",
    "X1_hate = to_categorical(train['off_labels'], 2)\n",
    "X1_hate = tf.reshape(X1_hate, [-1, 1, 2])\n",
    "\n",
    "Y1 = to_categorical(train['emo_labels'], 7)\n",
    "Y1_reshaped = tf.reshape(Y1, [-1, 1, 7])\n",
    "\n",
    "print('Train data shapes:', X1_text.shape, X1_event.shape, X1_hate.shape, Y1_reshaped.shape)\n",
    "\n",
    "# - - - - - DEV FEATURES - - - - -\n",
    "X2_text = tf.reshape(dev_embeddings, [-1, 1, TRANSFORMER_DIM])\n",
    "\n",
    "X2_event = to_categorical(dev['event_labels'], 8)\n",
    "X2_event = tf.reshape(X2_event, [-1, 1, 8])\n",
    "\n",
    "X2_hate = to_categorical(dev['off_labels'], 2)\n",
    "X2_hate = tf.reshape(X2_hate, [-1, 1, 2])\n",
    "\n",
    "Y2 = to_categorical(dev['emo_labels'], 7)\n",
    "Y2_reshaped = tf.reshape(Y2, [-1, 1, 7])\n",
    "\n",
    "print('Dev data shapes:', X2_text.shape, X2_event.shape, X2_hate.shape, Y2_reshaped.shape)\n",
    "\n",
    "\n",
    "# - - - - - TEST FEATURES - - - - -\n",
    "X3_text = tf.reshape(test_embeddings, [-1, 1, TRANSFORMER_DIM])\n",
    "\n",
    "X3_event = to_categorical(test['event_labels'], 8)\n",
    "X3_event = tf.reshape(X3_event, [-1, 1, 8])\n",
    "\n",
    "X3_hate = to_categorical(test['off_labels'], 2)\n",
    "X3_hate = tf.reshape(X3_hate, [-1, 1, 2])\n",
    "\n",
    "Y3 = to_categorical(test_gold['emo_labels'], 7)\n",
    "Y3_reshaped = tf.reshape(Y3, [-1, 1, 7])\n",
    "\n",
    "print('Test data shapes:', X3_text.shape, X3_event.shape, X3_hate.shape, Y3_reshaped.shape)"
   ]
  },
  {
   "cell_type": "code",
   "execution_count": null,
   "metadata": {
    "colab": {
     "base_uri": "https://localhost:8080/"
    },
    "executionInfo": {
     "elapsed": 904,
     "status": "ok",
     "timestamp": 1623252633876,
     "user": {
      "displayName": "Fedor Vitiugin",
      "photoUrl": "https://lh3.googleusercontent.com/a-/AOh14GhNfflJc36ljlReANlgAuXkckCMLluvfUefEhf_=s64",
      "userId": "11784960284874366908"
     },
     "user_tz": -120
    },
    "id": "bu1tOfngZQVU",
    "outputId": "81ccd494-d3db-45fd-d9ed-64fcfd669121"
   },
   "outputs": [],
   "source": [
    "# Defining the model paramaters.\n",
    "\n",
    "inputA = Input(shape=(1, TRANSFORMER_DIM, ))\n",
    "inputB = Input(shape=(1, 8, ))\n",
    "inputC = Input(shape=(1, 2, ))\n",
    "\n",
    "# the first branch operates on the transformer embeddings\n",
    "x = LSTM(TRANSFORMER_DIM, input_shape=(1, TRANSFORMER_DIM), return_sequences=True, dropout=0.1, recurrent_dropout=0.1)(inputA)\n",
    "x = Dense(TRANSFORMER_DIM,activation='relu')(x)\n",
    "x = Dense(256, activation=\"sigmoid\")(x)\n",
    "x = Dropout(0.5)(x)\n",
    "x = Dense(128,activation='sigmoid')(x)\n",
    "x_model = Model(inputs=inputA, outputs=x)\n",
    "\n",
    "# the second branch operates on the topics features\n",
    "y = Dense(128, activation=\"relu\")(inputB)\n",
    "y = Dense(24, activation = \"relu\")(y)\n",
    "y_model = Model(inputs = inputB, outputs = y)\n",
    "\n",
    "# the third branch operates on offense features\n",
    "z = Dense(128, activation=\"relu\")(inputC)\n",
    "z = Dense(24, activation = \"relu\")(z)\n",
    "z_model = Model(inputs = inputC, outputs = z)\n",
    "\n",
    "# combine the output of the three branches\n",
    "combined = Concatenate()([x_model.output, y_model.output, z_model.output])\n",
    "\n",
    "# apply a FC layer and then a regression prediction on the combined outputs\n",
    "z = BatchNormalization()(combined)\n",
    "z1 = Dense(7, activation=\"softmax\")(z)\n",
    "\n",
    "# our model will accept the inputs of the two branches and then output a single value\n",
    "model = Model(inputs=[x_model.inputs, y_model.inputs, z_model.inputs], outputs=z1)"
   ]
  },
  {
   "cell_type": "code",
   "execution_count": null,
   "metadata": {
    "executionInfo": {
     "elapsed": 208,
     "status": "ok",
     "timestamp": 1623247750066,
     "user": {
      "displayName": "Fedor Vitiugin",
      "photoUrl": "https://lh3.googleusercontent.com/a-/AOh14GhNfflJc36ljlReANlgAuXkckCMLluvfUefEhf_=s64",
      "userId": "11784960284874366908"
     },
     "user_tz": -120
    },
    "id": "5Jg2_Soa_-Sd"
   },
   "outputs": [],
   "source": [
    "def f1(y_true, y_pred):\n",
    "    y_true = K.flatten(y_true)\n",
    "    y_pred = K.flatten(y_pred)\n",
    "    return 2 * (K.sum(y_true * y_pred)+ K.epsilon()) / (K.sum(y_true) + K.sum(y_pred) + K.epsilon())"
   ]
  },
  {
   "cell_type": "code",
   "execution_count": null,
   "metadata": {
    "colab": {
     "base_uri": "https://localhost:8080/"
    },
    "executionInfo": {
     "elapsed": 47049,
     "status": "ok",
     "timestamp": 1623253424828,
     "user": {
      "displayName": "Fedor Vitiugin",
      "photoUrl": "https://lh3.googleusercontent.com/a-/AOh14GhNfflJc36ljlReANlgAuXkckCMLluvfUefEhf_=s64",
      "userId": "11784960284874366908"
     },
     "user_tz": -120
    },
    "id": "RuvjoNkKaxse",
    "outputId": "73b83d38-1aa4-45ee-ef26-b34b74277b2a"
   },
   "outputs": [],
   "source": [
    "# # Results of dev data classification\n",
    "\n",
    "model.summary()\n",
    "model.compile(loss='categorical_crossentropy', optimizer=Adam(0.001), \n",
    "              metrics=[tf.keras.metrics.CategoricalAccuracy(name='accuracy'), f1])\n",
    "\n",
    "model.fit([X1_text, X1_event, X1_hate], Y1_reshaped, \n",
    "          validation_data=([X2_text, X2_event, X2_hate], Y2_reshaped), \n",
    "          batch_size=100, epochs=20)"
   ]
  },
  {
   "cell_type": "code",
   "execution_count": null,
   "metadata": {
    "colab": {
     "base_uri": "https://localhost:8080/"
    },
    "executionInfo": {
     "elapsed": 148456,
     "status": "ok",
     "timestamp": 1623253637136,
     "user": {
      "displayName": "Fedor Vitiugin",
      "photoUrl": "https://lh3.googleusercontent.com/a-/AOh14GhNfflJc36ljlReANlgAuXkckCMLluvfUefEhf_=s64",
      "userId": "11784960284874366908"
     },
     "user_tz": -120
    },
    "id": "35ohjSgzC9n6",
    "outputId": "6447bedd-70b7-4f61-880e-c5e1e0248ed6"
   },
   "outputs": [],
   "source": [
    "# Results of testing data classification\n",
    "\n",
    "model.compile(loss='categorical_crossentropy', optimizer=Adam(0.001), \n",
    "              metrics=[tf.keras.metrics.CategoricalAccuracy(name='accuracy'), f1])\n",
    "model.fit([X1_text, X1_event, X1_hate], Y1_reshaped, \n",
    "          validation_data=([X3_text, X3_event, X3_hate], Y3_reshaped), epochs=20)"
   ]
  }
 ],
 "metadata": {
  "accelerator": "TPU",
  "colab": {
   "authorship_tag": "ABX9TyOAmVTlT0xXT5NJ+q8d/ZgU",
   "mount_file_id": "1ntT9O0NZQUfypq1RnOFjCA7AWu0HtC4A",
   "name": "EmoEval_2.ipynb",
   "provenance": [
    {
     "file_id": "1QsYVabnBlU3zyVGqSuKW-J5jgPpJn7H2",
     "timestamp": 1621422750072
    }
   ],
   "version": ""
  },
  "kernelspec": {
   "display_name": "Python 3",
   "language": "python",
   "name": "python3"
  },
  "language_info": {
   "codemirror_mode": {
    "name": "ipython",
    "version": 3
   },
   "file_extension": ".py",
   "mimetype": "text/x-python",
   "name": "python",
   "nbconvert_exporter": "python",
   "pygments_lexer": "ipython3",
   "version": "3.7.2"
  },
  "widgets": {
   "application/vnd.jupyter.widget-state+json": {
    "34639962d9a3482fbb4200549d138de5": {
     "model_module": "@jupyter-widgets/base",
     "model_name": "LayoutModel",
     "state": {
      "_model_module": "@jupyter-widgets/base",
      "_model_module_version": "1.2.0",
      "_model_name": "LayoutModel",
      "_view_count": null,
      "_view_module": "@jupyter-widgets/base",
      "_view_module_version": "1.2.0",
      "_view_name": "LayoutView",
      "align_content": null,
      "align_items": null,
      "align_self": null,
      "border": null,
      "bottom": null,
      "display": null,
      "flex": null,
      "flex_flow": null,
      "grid_area": null,
      "grid_auto_columns": null,
      "grid_auto_flow": null,
      "grid_auto_rows": null,
      "grid_column": null,
      "grid_gap": null,
      "grid_row": null,
      "grid_template_areas": null,
      "grid_template_columns": null,
      "grid_template_rows": null,
      "height": null,
      "justify_content": null,
      "justify_items": null,
      "left": null,
      "margin": null,
      "max_height": null,
      "max_width": null,
      "min_height": null,
      "min_width": null,
      "object_fit": null,
      "object_position": null,
      "order": null,
      "overflow": null,
      "overflow_x": null,
      "overflow_y": null,
      "padding": null,
      "right": null,
      "top": null,
      "visibility": null,
      "width": null
     }
    },
    "5bf24b84f0b94740bdd418b1875701bd": {
     "model_module": "@jupyter-widgets/controls",
     "model_name": "HBoxModel",
     "state": {
      "_dom_classes": [],
      "_model_module": "@jupyter-widgets/controls",
      "_model_module_version": "1.5.0",
      "_model_name": "HBoxModel",
      "_view_count": null,
      "_view_module": "@jupyter-widgets/controls",
      "_view_module_version": "1.5.0",
      "_view_name": "HBoxView",
      "box_style": "",
      "children": [
       "IPY_MODEL_d3309928a6a44698a141f6f070b50145",
       "IPY_MODEL_9d74d595ae2f4dcfa30abdd566690df6"
      ],
      "layout": "IPY_MODEL_34639962d9a3482fbb4200549d138de5"
     }
    },
    "609f4fd8caff44e2b7cfff1a0ec15655": {
     "model_module": "@jupyter-widgets/base",
     "model_name": "LayoutModel",
     "state": {
      "_model_module": "@jupyter-widgets/base",
      "_model_module_version": "1.2.0",
      "_model_name": "LayoutModel",
      "_view_count": null,
      "_view_module": "@jupyter-widgets/base",
      "_view_module_version": "1.2.0",
      "_view_name": "LayoutView",
      "align_content": null,
      "align_items": null,
      "align_self": null,
      "border": null,
      "bottom": null,
      "display": null,
      "flex": null,
      "flex_flow": null,
      "grid_area": null,
      "grid_auto_columns": null,
      "grid_auto_flow": null,
      "grid_auto_rows": null,
      "grid_column": null,
      "grid_gap": null,
      "grid_row": null,
      "grid_template_areas": null,
      "grid_template_columns": null,
      "grid_template_rows": null,
      "height": null,
      "justify_content": null,
      "justify_items": null,
      "left": null,
      "margin": null,
      "max_height": null,
      "max_width": null,
      "min_height": null,
      "min_width": null,
      "object_fit": null,
      "object_position": null,
      "order": null,
      "overflow": null,
      "overflow_x": null,
      "overflow_y": null,
      "padding": null,
      "right": null,
      "top": null,
      "visibility": null,
      "width": null
     }
    },
    "9d74d595ae2f4dcfa30abdd566690df6": {
     "model_module": "@jupyter-widgets/controls",
     "model_name": "HTMLModel",
     "state": {
      "_dom_classes": [],
      "_model_module": "@jupyter-widgets/controls",
      "_model_module_version": "1.5.0",
      "_model_name": "HTMLModel",
      "_view_count": null,
      "_view_module": "@jupyter-widgets/controls",
      "_view_module_version": "1.5.0",
      "_view_name": "HTMLView",
      "description": "",
      "description_tooltip": null,
      "layout": "IPY_MODEL_bbc07010a0a44250a2f041b501cd34c7",
      "placeholder": "​",
      "style": "IPY_MODEL_9f67bb02ccfa4b48a717ee250197ab90",
      "value": " 504M/504M [00:37&lt;00:00, 13.4MB/s]"
     }
    },
    "9f67bb02ccfa4b48a717ee250197ab90": {
     "model_module": "@jupyter-widgets/controls",
     "model_name": "DescriptionStyleModel",
     "state": {
      "_model_module": "@jupyter-widgets/controls",
      "_model_module_version": "1.5.0",
      "_model_name": "DescriptionStyleModel",
      "_view_count": null,
      "_view_module": "@jupyter-widgets/base",
      "_view_module_version": "1.2.0",
      "_view_name": "StyleView",
      "description_width": ""
     }
    },
    "a9464648e33f4d488c42f77ad1fc7b55": {
     "model_module": "@jupyter-widgets/controls",
     "model_name": "ProgressStyleModel",
     "state": {
      "_model_module": "@jupyter-widgets/controls",
      "_model_module_version": "1.5.0",
      "_model_name": "ProgressStyleModel",
      "_view_count": null,
      "_view_module": "@jupyter-widgets/base",
      "_view_module_version": "1.2.0",
      "_view_name": "StyleView",
      "bar_color": null,
      "description_width": "initial"
     }
    },
    "bbc07010a0a44250a2f041b501cd34c7": {
     "model_module": "@jupyter-widgets/base",
     "model_name": "LayoutModel",
     "state": {
      "_model_module": "@jupyter-widgets/base",
      "_model_module_version": "1.2.0",
      "_model_name": "LayoutModel",
      "_view_count": null,
      "_view_module": "@jupyter-widgets/base",
      "_view_module_version": "1.2.0",
      "_view_name": "LayoutView",
      "align_content": null,
      "align_items": null,
      "align_self": null,
      "border": null,
      "bottom": null,
      "display": null,
      "flex": null,
      "flex_flow": null,
      "grid_area": null,
      "grid_auto_columns": null,
      "grid_auto_flow": null,
      "grid_auto_rows": null,
      "grid_column": null,
      "grid_gap": null,
      "grid_row": null,
      "grid_template_areas": null,
      "grid_template_columns": null,
      "grid_template_rows": null,
      "height": null,
      "justify_content": null,
      "justify_items": null,
      "left": null,
      "margin": null,
      "max_height": null,
      "max_width": null,
      "min_height": null,
      "min_width": null,
      "object_fit": null,
      "object_position": null,
      "order": null,
      "overflow": null,
      "overflow_x": null,
      "overflow_y": null,
      "padding": null,
      "right": null,
      "top": null,
      "visibility": null,
      "width": null
     }
    },
    "d3309928a6a44698a141f6f070b50145": {
     "model_module": "@jupyter-widgets/controls",
     "model_name": "FloatProgressModel",
     "state": {
      "_dom_classes": [],
      "_model_module": "@jupyter-widgets/controls",
      "_model_module_version": "1.5.0",
      "_model_name": "FloatProgressModel",
      "_view_count": null,
      "_view_module": "@jupyter-widgets/controls",
      "_view_module_version": "1.5.0",
      "_view_name": "ProgressView",
      "bar_style": "success",
      "description": "100%",
      "description_tooltip": null,
      "layout": "IPY_MODEL_609f4fd8caff44e2b7cfff1a0ec15655",
      "max": 503702349,
      "min": 0,
      "orientation": "horizontal",
      "style": "IPY_MODEL_a9464648e33f4d488c42f77ad1fc7b55",
      "value": 503702349
     }
    }
   }
  }
 },
 "nbformat": 4,
 "nbformat_minor": 1
}
